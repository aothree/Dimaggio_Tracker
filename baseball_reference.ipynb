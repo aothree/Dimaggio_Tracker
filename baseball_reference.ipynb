{
 "cells": [
  {
   "cell_type": "code",
   "execution_count": 5,
   "id": "8e976baf-5248-45d9-970c-e4c1b39652f1",
   "metadata": {},
   "outputs": [],
   "source": [
    "import pandas as pd\n",
    "import numpy as np\n",
    "import requests, bs4\n",
    "import re, os\n",
    "import matplotlib.pyplot as plt\n",
    "import statsapi\n",
    "pd.options.display.max_columns = 999"
   ]
  },
  {
   "cell_type": "code",
   "execution_count": 10,
   "id": "8e9b8b25-9a60-4d2b-97cc-e11cb74aea0d",
   "metadata": {},
   "outputs": [
    {
     "data": {
      "text/plain": [
       "0      3\n",
       "1      0\n",
       "2      3\n",
       "3      3\n",
       "4      2\n",
       "5      0\n",
       "6      0\n",
       "7      2\n",
       "8      1\n",
       "9      2\n",
       "10     3\n",
       "11     1\n",
       "12     2\n",
       "13     0\n",
       "14     0\n",
       "15     1\n",
       "16     0\n",
       "17     0\n",
       "18     2\n",
       "19     1\n",
       "20     H\n",
       "21     3\n",
       "22     1\n",
       "23     0\n",
       "24     1\n",
       "25     1\n",
       "26     3\n",
       "27     1\n",
       "28     3\n",
       "29     0\n",
       "30     0\n",
       "31     0\n",
       "32     0\n",
       "33     1\n",
       "34     0\n",
       "35     0\n",
       "36     1\n",
       "37     0\n",
       "38     0\n",
       "39     0\n",
       "40     2\n",
       "41     1\n",
       "42     0\n",
       "43     1\n",
       "44     0\n",
       "45     3\n",
       "46     H\n",
       "47     1\n",
       "48     0\n",
       "49     1\n",
       "50     1\n",
       "51     H\n",
       "52     1\n",
       "53     1\n",
       "54     1\n",
       "55     1\n",
       "56     1\n",
       "57     1\n",
       "58     1\n",
       "59    58\n",
       "Name: H, dtype: object"
      ]
     },
     "execution_count": 10,
     "metadata": {},
     "output_type": "execute_result"
    }
   ],
   "source": [
    "name = 'francwa'\n",
    "url = f'https://www.baseball-reference.com/players/gl.fcgi?id={name}01&t=b&year=2022'\n",
    "\n",
    "df = pd.read_html(url)\n",
    "df1 = pd.DataFrame(df[4])\n",
    "df1['H']"
   ]
  },
  {
   "cell_type": "code",
   "execution_count": 8,
   "id": "9305871e-b181-4715-91ce-79422c5c9315",
   "metadata": {},
   "outputs": [
    {
     "name": "stdout",
     "output_type": "stream",
     "text": [
      "this player has a 2 game hit streak going\n"
     ]
    }
   ],
   "source": [
    "hit_streak = 0\n",
    "for row in df1.sort_index(ascending=False)[1:]['H']:\n",
    "    if int(row) > 0:\n",
    "        hit_streak += 1\n",
    "    else:\n",
    "        break\n",
    "print(f'this player has a {hit_streak} game hit streak going')"
   ]
  },
  {
   "cell_type": "code",
   "execution_count": null,
   "id": "6e325bb8-48dd-48d9-ae0c-5a7a3c0b733b",
   "metadata": {},
   "outputs": [],
   "source": [
    "'https://www.baseball-reference.com/players/gl.fcgi?id={name}01&t=b&year=2022'"
   ]
  },
  {
   "cell_type": "code",
   "execution_count": null,
   "id": "cc0f4922-b5d4-4b64-adab-f522c93c590b",
   "metadata": {},
   "outputs": [],
   "source": []
  }
 ],
 "metadata": {
  "kernelspec": {
   "display_name": "Python 3 (ipykernel)",
   "language": "python",
   "name": "python3"
  },
  "language_info": {
   "codemirror_mode": {
    "name": "ipython",
    "version": 3
   },
   "file_extension": ".py",
   "mimetype": "text/x-python",
   "name": "python",
   "nbconvert_exporter": "python",
   "pygments_lexer": "ipython3",
   "version": "3.9.7"
  }
 },
 "nbformat": 4,
 "nbformat_minor": 5
}
