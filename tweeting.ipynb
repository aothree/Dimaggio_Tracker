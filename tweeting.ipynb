{
 "cells": [
  {
   "cell_type": "code",
   "execution_count": 2,
   "id": "6504d1a3-5f39-4bde-9476-3631ef300c57",
   "metadata": {},
   "outputs": [],
   "source": [
    "import pandas as pd\n",
    "import numpy as np\n",
    "import requests, bs4\n",
    "import re, os\n",
    "import matplotlib.pyplot as plt\n",
    "import statsapi\n",
    "pd.options.display.max_columns = 999\n",
    "import tweepy\n",
    "from datetime import date\n"
   ]
  },
  {
   "cell_type": "code",
   "execution_count": 3,
   "id": "dca0b2b8-4f04-4dae-8a28-6c7e8a810d98",
   "metadata": {
    "tags": []
   },
   "outputs": [],
   "source": [
    "consumer_key = test\n",
    "consumer_secret = test\n",
    "access_token = test\n",
    "access_token_secret = test\n",
    "\n",
    "\n",
    "auth = tweepy.OAuthHandler(consumer_key, consumer_secret)\n",
    "auth.set_access_token(access_token, access_token_secret)\n",
    "api = tweepy.API(auth)"
   ]
  },
  {
   "cell_type": "code",
   "execution_count": 46,
   "id": "88b50043-54dd-4198-a7eb-7fe56eb63c51",
   "metadata": {
    "collapsed": true,
    "jupyter": {
     "outputs_hidden": true
    },
    "tags": []
   },
   "outputs": [
    {
     "data": {
      "text/plain": [
       "User(_api=<tweepy.api.API object at 0x000001EA41354D00>, _json={'id': 1545772813994250240, 'id_str': '1545772813994250240', 'name': 'DiMaggio Tracker', 'screen_name': 'DiMaggioTracker', 'location': 'Holy Cross Catholic Cemetary', 'profile_location': None, 'description': \"Who's on the hunt to catch Joe Dimaggio?  This account tracks all MLB Hit Streaks of 5 games or more\", 'url': None, 'entities': {'description': {'urls': []}}, 'protected': False, 'followers_count': 6, 'friends_count': 0, 'listed_count': 0, 'created_at': 'Sat Jul 09 14:12:41 +0000 2022', 'favourites_count': 0, 'utc_offset': None, 'time_zone': None, 'geo_enabled': False, 'verified': False, 'statuses_count': 54, 'lang': None, 'status': {'created_at': 'Sat Jul 16 21:03:28 +0000 2022', 'id': 1548413026520293381, 'id_str': '1548413026520293381', 'text': '#RingTheBell\\n\\nNick Castellanos hit a double✌ off of a 94.0 mph cutter from Max Meyer, and now has a 6 game hit stre… https://t.co/aopushSs44', 'truncated': True, 'entities': {'hashtags': [{'text': 'RingTheBell', 'indices': [0, 12]}], 'symbols': [], 'user_mentions': [], 'urls': [{'url': 'https://t.co/aopushSs44', 'expanded_url': 'https://twitter.com/i/web/status/1548413026520293381', 'display_url': 'twitter.com/i/web/status/1…', 'indices': [117, 140]}]}, 'source': '<a href=\"https://github.com/aothree/Dimaggio_Tracker\" rel=\"nofollow\">Dimaggio Tracker</a>', 'in_reply_to_status_id': None, 'in_reply_to_status_id_str': None, 'in_reply_to_user_id': None, 'in_reply_to_user_id_str': None, 'in_reply_to_screen_name': None, 'geo': None, 'coordinates': None, 'place': None, 'contributors': None, 'is_quote_status': False, 'retweet_count': 0, 'favorite_count': 0, 'favorited': False, 'retweeted': False, 'possibly_sensitive': False, 'lang': 'en'}, 'contributors_enabled': False, 'is_translator': False, 'is_translation_enabled': False, 'profile_background_color': 'F5F8FA', 'profile_background_image_url': None, 'profile_background_image_url_https': None, 'profile_background_tile': False, 'profile_image_url': 'http://pbs.twimg.com/profile_images/1545773825714925568/cdFKXQQ6_normal.jpg', 'profile_image_url_https': 'https://pbs.twimg.com/profile_images/1545773825714925568/cdFKXQQ6_normal.jpg', 'profile_banner_url': 'https://pbs.twimg.com/profile_banners/1545772813994250240/1657397486', 'profile_link_color': '1DA1F2', 'profile_sidebar_border_color': 'C0DEED', 'profile_sidebar_fill_color': 'DDEEF6', 'profile_text_color': '333333', 'profile_use_background_image': True, 'has_extended_profile': True, 'default_profile': True, 'default_profile_image': False, 'following': False, 'follow_request_sent': False, 'notifications': False, 'translator_type': 'none', 'withheld_in_countries': []}, id=1545772813994250240, id_str='1545772813994250240', name='DiMaggio Tracker', screen_name='DiMaggioTracker', location='Holy Cross Catholic Cemetary', profile_location=None, description=\"Who's on the hunt to catch Joe Dimaggio?  This account tracks all MLB Hit Streaks of 5 games or more\", url=None, entities={'description': {'urls': []}}, protected=False, followers_count=6, friends_count=0, listed_count=0, created_at=datetime.datetime(2022, 7, 9, 14, 12, 41, tzinfo=datetime.timezone.utc), favourites_count=0, utc_offset=None, time_zone=None, geo_enabled=False, verified=False, statuses_count=54, lang=None, status=Status(_api=<tweepy.api.API object at 0x000001EA41354D00>, _json={'created_at': 'Sat Jul 16 21:03:28 +0000 2022', 'id': 1548413026520293381, 'id_str': '1548413026520293381', 'text': '#RingTheBell\\n\\nNick Castellanos hit a double✌ off of a 94.0 mph cutter from Max Meyer, and now has a 6 game hit stre… https://t.co/aopushSs44', 'truncated': True, 'entities': {'hashtags': [{'text': 'RingTheBell', 'indices': [0, 12]}], 'symbols': [], 'user_mentions': [], 'urls': [{'url': 'https://t.co/aopushSs44', 'expanded_url': 'https://twitter.com/i/web/status/1548413026520293381', 'display_url': 'twitter.com/i/web/status/1…', 'indices': [117, 140]}]}, 'source': '<a href=\"https://github.com/aothree/Dimaggio_Tracker\" rel=\"nofollow\">Dimaggio Tracker</a>', 'in_reply_to_status_id': None, 'in_reply_to_status_id_str': None, 'in_reply_to_user_id': None, 'in_reply_to_user_id_str': None, 'in_reply_to_screen_name': None, 'geo': None, 'coordinates': None, 'place': None, 'contributors': None, 'is_quote_status': False, 'retweet_count': 0, 'favorite_count': 0, 'favorited': False, 'retweeted': False, 'possibly_sensitive': False, 'lang': 'en'}, created_at=datetime.datetime(2022, 7, 16, 21, 3, 28, tzinfo=datetime.timezone.utc), id=1548413026520293381, id_str='1548413026520293381', text='#RingTheBell\\n\\nNick Castellanos hit a double✌ off of a 94.0 mph cutter from Max Meyer, and now has a 6 game hit stre… https://t.co/aopushSs44', truncated=True, entities={'hashtags': [{'text': 'RingTheBell', 'indices': [0, 12]}], 'symbols': [], 'user_mentions': [], 'urls': [{'url': 'https://t.co/aopushSs44', 'expanded_url': 'https://twitter.com/i/web/status/1548413026520293381', 'display_url': 'twitter.com/i/web/status/1…', 'indices': [117, 140]}]}, source='Dimaggio Tracker', source_url='https://github.com/aothree/Dimaggio_Tracker', in_reply_to_status_id=None, in_reply_to_status_id_str=None, in_reply_to_user_id=None, in_reply_to_user_id_str=None, in_reply_to_screen_name=None, geo=None, coordinates=None, place=None, contributors=None, is_quote_status=False, retweet_count=0, favorite_count=0, favorited=False, retweeted=False, possibly_sensitive=False, lang='en'), contributors_enabled=False, is_translator=False, is_translation_enabled=False, profile_background_color='F5F8FA', profile_background_image_url=None, profile_background_image_url_https=None, profile_background_tile=False, profile_image_url='http://pbs.twimg.com/profile_images/1545773825714925568/cdFKXQQ6_normal.jpg', profile_image_url_https='https://pbs.twimg.com/profile_images/1545773825714925568/cdFKXQQ6_normal.jpg', profile_banner_url='https://pbs.twimg.com/profile_banners/1545772813994250240/1657397486', profile_link_color='1DA1F2', profile_sidebar_border_color='C0DEED', profile_sidebar_fill_color='DDEEF6', profile_text_color='333333', profile_use_background_image=True, has_extended_profile=True, default_profile=True, default_profile_image=False, following=False, follow_request_sent=False, notifications=False, translator_type='none', withheld_in_countries=[])"
      ]
     },
     "execution_count": 46,
     "metadata": {},
     "output_type": "execute_result"
    }
   ],
   "source": [
    "emoji = ''\n",
    "\n",
    "api.update_profile(description=f\"Who's on the hunt to catch Joe Dimaggio?  This account tracks all MLB Hit Streaks of 5 games or more{emoji}\")"
   ]
  },
  {
   "cell_type": "code",
   "execution_count": 4,
   "id": "cb01df34-f52d-4b80-847b-2cbcb66661ff",
   "metadata": {},
   "outputs": [],
   "source": [
    "team_dict = {\n",
    "    108: ('LAA', 'Angels', '#GoHalos'),\n",
    "    109: ('ARI', 'D-backs', '#Dbacks'),\n",
    "    110: ('BAL', 'Orioles', '#Birdland'),\n",
    "    111: ('BOS', 'Red Sox', '#DirtyWater'),\n",
    "    112: ('CHC', 'Cubs', '#ItsDifferentHere'),\n",
    "    113: ('CIN', 'Reds', '#ATOBTTR'),\n",
    "    114: ('CLE', 'Guardians', '#ForTheLand'),\n",
    "    115: ('COL', 'Rockies', '#Rockies'),\n",
    "    116: ('DET', 'Tigers', '#DetroitRoots'),\n",
    "    117: ('HOU', 'Astros', '#LevelUp'),\n",
    "    118: ('KC', 'Royals', '#TogetherRoyal'),\n",
    "    119: ('LAD', 'Dodgers', '#AlwaysLA'),\n",
    "    120: ('WSH', 'Nationals', '#NATITUDE'),\n",
    "    121: ('NYM', 'Mets', '#LGM'),\n",
    "    133: ('OAK', 'Athletics', '#DrumTogether'),\n",
    "    134: ('PIT', 'Pirates', '#LetsGoBucs'),\n",
    "    135: ('SD', 'Padres', '#TimeToShine'),\n",
    "    136: ('SEA', 'Mariners', '#SeaUsRise'),\n",
    "    137: ('SF', 'Giants', '#SFGameUp'),\n",
    "    138: ('STL', 'Cardinals', '#STLCards'),\n",
    "    139: ('TB', 'Rays', '#RaysUp'),\n",
    "    140: ('TEX', 'Rangers', '#StraightUpTX'),\n",
    "    141: ('TOR', 'Blue Jays', '#NextLevel'),\n",
    "    142: ('MIN', 'Twins', '#MNTwins'),\n",
    "    143: ('PHI', 'Phillies', '#RingTheBell'),\n",
    "    144: ('ATL', 'Braves', '#ForTheA'),\n",
    "    145: ('CWS', 'White Sox', '#ChangeTheGame'),\n",
    "    146: ('MIA', 'Marlins', '#MakeItMiami'),\n",
    "    147: ('NYY', 'Yankees', '#RepBX'),\n",
    "    158: ('MIL', 'Brewers', '#ThisIsMyCrew')\n",
    "}"
   ]
  },
  {
   "cell_type": "code",
   "execution_count": 5,
   "id": "8a172f67-8ae1-483a-9ea9-1fbe99463532",
   "metadata": {
    "tags": []
   },
   "outputs": [
    {
     "data": {
      "text/plain": [
       "[661718, 661809, 662483, 662952, 662909, 661873, 661359]"
      ]
     },
     "execution_count": 5,
     "metadata": {},
     "output_type": "execute_result"
    }
   ],
   "source": [
    "today_schedule = statsapi.schedule()\n",
    "today_schedule\n",
    "\n",
    "# get active game ids\n",
    "def get_active_game_ids():\n",
    "    active_game_ids = []\n",
    "    for i in range(len(today_schedule)):\n",
    "        if today_schedule[i]['status'] == 'In Progress':\n",
    "            active_game_ids.append(today_schedule[i]['game_id'])\n",
    "    return active_game_ids\n",
    "\n",
    "get_active_game_ids()"
   ]
  },
  {
   "cell_type": "code",
   "execution_count": 6,
   "id": "482d44d5-e277-4ca2-99c2-6ba3b565d88f",
   "metadata": {},
   "outputs": [],
   "source": [
    "todays_tweets = []"
   ]
  },
  {
   "cell_type": "code",
   "execution_count": 7,
   "id": "ac7353ab-12bb-440d-b303-fa89c00fa5fe",
   "metadata": {},
   "outputs": [],
   "source": [
    "todays_tweets = ['Jonathan India',\n",
    " \"Ke'Bryan Hayes\",\n",
    " 'Corey Seager',\n",
    " 'Austin Riley',\n",
    " 'Amed Rosario',\n",
    " 'Alex Kirilloff',\n",
    " 'Nick Castellanos',\n",
    " 'Brandon Drury']"
   ]
  },
  {
   "cell_type": "code",
   "execution_count": 11,
   "id": "6a254ee0-dc61-4947-b2f1-b9d05946c0e5",
   "metadata": {
    "tags": []
   },
   "outputs": [
    {
     "name": "stdout",
     "output_type": "stream",
     "text": [
      "Corey Seager already tweeted about\n",
      "Corey Seager already tweeted about\n",
      "Adam Frazier already tweeted about\n",
      "Leody Taveras 7\n",
      "tweet fired for Leody Taveras\n",
      "Austin Riley already tweeted about\n",
      "Austin Riley already tweeted about\n",
      "Amed Rosario already tweeted about\n",
      "Amed Rosario already tweeted about\n",
      "Nick Castellanos already tweeted about\n",
      "Luke Williams already tweeted about\n"
     ]
    }
   ],
   "source": [
    "game_ids = get_active_game_ids()\n",
    "for game in game_ids:\n",
    "    url = f'https://statsapi.mlb.com/api/v1/game/{game}/playByPlay'\n",
    "    res = requests.get(url)\n",
    "    data = res.json()\n",
    "    \n",
    "    for i in range(len(data['allPlays'])-1):\n",
    "        try: \n",
    "            event = data['allPlays'][i]['result']['event']\n",
    "        except:\n",
    "            continue\n",
    "        \n",
    "        # Continue only for hits\n",
    "        if event == 'Single' or event == 'Double' or event == 'Triple' or event == 'Home Run':\n",
    "            \n",
    "            if event == 'Home Run':\n",
    "                event_emoji = '\\U0001F4A3\\U0001F680'\n",
    "            elif event == 'Single':\n",
    "                event_emoji = '\\U000026BE'\n",
    "            elif event == 'Double':\n",
    "                event_emoji = '\\U0000270C'\n",
    "            elif event == 'Triple':\n",
    "                event_emoji = '\\U0001F3C3\\U0001F3C3\\U0001F3C3' \n",
    "            \n",
    "            # save name and last_name.  Suffixes like \"Jr\" will need to be added going forward\n",
    "            name = data[\"allPlays\"][i][\"matchup\"][\"batter\"][\"fullName\"]\n",
    "                      \n",
    "            if name not in todays_tweets:\n",
    "                if 'Jr' in name:\n",
    "                    last_name = ' '.join(name.split()[-2:])\n",
    "                else:\n",
    "                    last_name = name.split()[-1]\n",
    "                \n",
    "                # identify what team batter is on\n",
    "                player_team_id = statsapi.lookup_player(name)[0]['currentTeam']['id']\n",
    "\n",
    "                #check to see if player has a hitting streak of 5 or more games\n",
    "                df = pd.read_html('test_mlb_longesthitstreak')\n",
    "                df = pd.DataFrame(df[1])\n",
    "                if name in df['Player'].value_counts():\n",
    "                    hit_streak = int(df.loc[(df['Player']== name)]['Games'].values[0]) + 1\n",
    "                    print(name, hit_streak)\n",
    "                else:\n",
    "                    continue\n",
    "\n",
    "                if hit_streak >= 5:\n",
    "                    # save details from the hit to variables\n",
    "                    pitcher_name = data['allPlays'][i]['matchup']['pitcher']['fullName']\n",
    "                    pitch_type = data['allPlays'][0]['playEvents'][-1]['details']['type']['description']\n",
    "                    pitch_speed = data['allPlays'][0]['playEvents'][-1]['pitchData']['startSpeed']\n",
    "                    exit_velo = data['allPlays'][i]['playEvents'][-1]['hitData']['launchSpeed']\n",
    "                    \n",
    "                    # set emoji for launch_angle\n",
    "                    launch_angle = data['allPlays'][i]['playEvents'][-1]['hitData']['launchAngle']\n",
    "                    if 25 <= launch_angle <= 35:\n",
    "                        launch_angle_emoji = '\\U0001F64C'\n",
    "                    elif launch_angle < 10:\n",
    "                        launch_angle_emoji = '\\U0001F447'\n",
    "                    else:\n",
    "                        launch_angle_emoji = ''\n",
    "                    \n",
    "                    # set emoji for batting average \n",
    "                    batting_avg =  float(df.loc[(df['Player']== name)]['BA'].values[0])\n",
    "                    if .300 <= batting_avg < .400:\n",
    "                        heat_check_emoji = '\\U0001F440'\n",
    "                    elif .400 <= batting_avg < .500:\n",
    "                        heat_check_emoji = '\\U0001F525'\n",
    "                    elif batting_avg >= .500:\n",
    "                        heat_check_emoji = '\\U0001F60D'\n",
    "                    else:\n",
    "                        heat_check_emoji = ''\n",
    "                    \n",
    "                    # set emoji for exit velocity\n",
    "                    # if exit_velo > 110:\n",
    "                    # #     exit_velo_emoji = '\\U00002757\\U00002757'\n",
    "                    # if exit_velo >= 100:\n",
    "                    #     exit_velo_emoji = '\\U00026A1'\n",
    "                    if exit_velo >= 90:\n",
    "                        exit_velo_emoji = '\\U0001F44F'\n",
    "                    else:\n",
    "                        exit_velo_emoji = ''\n",
    "                    \n",
    "                    # Fix batting average to be three significant digits\n",
    "                    if len(str(batting_avg)) == 4:\n",
    "                        avg_fixed = str(batting_avg) + '0'\n",
    "                    elif len(str(batting_avg)) == 3:\n",
    "                        avg_fixed = str(batting_avg) + '00'\n",
    "                    else:\n",
    "                        avg_fixed = batting_avg\n",
    "                    \n",
    "                    # Send Tweet\n",
    "                    if event == 'Double':\n",
    "                        upload_result = api.media_upload(r'C:\\Users\\aorfa\\Downloads\\Utah_Get_Me_Two.mp4')\n",
    "                        text = f'{team_dict[player_team_id][-1]}\\n\\n{name} hit a {event.lower()}{event_emoji} off of a {pitch_speed} mph {pitch_type.lower()} from {pitcher_name}, and now has a {hit_streak} game hit streak.\\n\\nExit Velocity: {exit_velo} mph{exit_velo_emoji}\\n\\nLaunch Angle: {launch_angle} degrees{launch_angle_emoji}\\n\\n{last_name} is batting {avg_fixed} over this stretch.{heat_check_emoji}'\n",
    "                        api.update_status(status = text, media_ids = [upload_result.media_id_string])\n",
    "                        print(f'tweet fired for {name}')\n",
    "                    else:\n",
    "                        api.update_status(f'{team_dict[player_team_id][-1]}\\n\\n{name} hit a {event.lower()}{event_emoji} off of a {pitch_speed} mph {pitch_type.lower()} from {pitcher_name}, and now has a {hit_streak} game hit streak.\\n\\nExit Velocity: {exit_velo} mph{exit_velo_emoji}\\n\\nLaunch Angle: {launch_angle} degrees{launch_angle_emoji}\\n\\n{last_name} is batting {avg_fixed} over this stretch.{heat_check_emoji}')\n",
    "                        print(f'tweet fired for {name}')                                                     \n",
    "                    \n",
    "                    # Add name to list so that another a hit from the player won't trigger a tweet.\n",
    "                    todays_tweets.append(name)\n",
    "                    break\n",
    "                else:\n",
    "                    print(f\"{name}'s hit streak is less than 5\")\n",
    "                    continue\n",
    "            else:\n",
    "                print(f'{name} already tweeted about')"
   ]
  },
  {
   "cell_type": "code",
   "execution_count": 12,
   "id": "52d15efe-7247-4bf1-865c-42d69a472704",
   "metadata": {
    "tags": []
   },
   "outputs": [
    {
     "data": {
      "text/plain": [
       "['Jonathan India',\n",
       " \"Ke'Bryan Hayes\",\n",
       " 'Corey Seager',\n",
       " 'Austin Riley',\n",
       " 'Amed Rosario',\n",
       " 'Alex Kirilloff',\n",
       " 'Nick Castellanos',\n",
       " 'Brandon Drury',\n",
       " 'Adam Frazier',\n",
       " 'Luke Williams',\n",
       " 'Leody Taveras']"
      ]
     },
     "execution_count": 12,
     "metadata": {},
     "output_type": "execute_result"
    }
   ],
   "source": [
    "todays_tweets "
   ]
  },
  {
   "cell_type": "code",
   "execution_count": 50,
   "id": "7a134bad-8a6e-4599-9366-b9fea7d71b61",
   "metadata": {
    "collapsed": true,
    "jupyter": {
     "outputs_hidden": true
    },
    "tags": []
   },
   "outputs": [
    {
     "data": {
      "text/plain": [
       "[{'details': {'call': {'code': 'B', 'description': 'Ball'},\n",
       "   'description': 'Ball',\n",
       "   'code': 'B',\n",
       "   'ballColor': 'rgba(39, 161, 39, 1.0)',\n",
       "   'trailColor': 'rgba(188, 0, 33, 1.0)',\n",
       "   'isInPlay': False,\n",
       "   'isStrike': False,\n",
       "   'isBall': True,\n",
       "   'type': {'code': 'FF', 'description': 'Four-Seam Fastball'},\n",
       "   'hasReview': False},\n",
       "  'count': {'balls': 1, 'strikes': 0, 'outs': 0},\n",
       "  'pitchData': {'startSpeed': 94.2,\n",
       "   'endSpeed': 86.8,\n",
       "   'strikeZoneTop': 3.65,\n",
       "   'strikeZoneBottom': 1.66,\n",
       "   'coordinates': {'aY': 27.42,\n",
       "    'aZ': -9.59,\n",
       "    'pfxX': -4.4,\n",
       "    'pfxZ': 11.76,\n",
       "    'pX': 0.71,\n",
       "    'pZ': 3.55,\n",
       "    'vX0': 6.99,\n",
       "    'vY0': -137.04,\n",
       "    'vZ0': -5.7,\n",
       "    'x': 90.03,\n",
       "    'y': 143.01,\n",
       "    'x0': -1.29,\n",
       "    'y0': 50.0,\n",
       "    'z0': 6.3,\n",
       "    'aX': -8.46},\n",
       "   'breaks': {'breakAngle': 20.4, 'spinRate': 1978, 'spinDirection': 200},\n",
       "   'zone': 12,\n",
       "   'plateTime': 0.4,\n",
       "   'extension': 6.79},\n",
       "  'index': 0,\n",
       "  'playId': '9951180d-d209-48e0-acdd-7857cb49c91a',\n",
       "  'pitchNumber': 1,\n",
       "  'startTime': '2022-07-15T23:39:44.857Z',\n",
       "  'endTime': '2022-07-15T23:39:56.239Z',\n",
       "  'isPitch': True,\n",
       "  'type': 'pitch'},\n",
       " {'details': {'call': {'code': 'B', 'description': 'Ball'},\n",
       "   'description': 'Ball',\n",
       "   'code': 'B',\n",
       "   'ballColor': 'rgba(39, 161, 39, 1.0)',\n",
       "   'trailColor': 'rgba(188, 0, 33, 1.0)',\n",
       "   'isInPlay': False,\n",
       "   'isStrike': False,\n",
       "   'isBall': True,\n",
       "   'type': {'code': 'FF', 'description': 'Four-Seam Fastball'},\n",
       "   'hasReview': False},\n",
       "  'count': {'balls': 2, 'strikes': 0, 'outs': 0},\n",
       "  'pitchData': {'startSpeed': 94.5,\n",
       "   'endSpeed': 86.5,\n",
       "   'strikeZoneTop': 3.65,\n",
       "   'strikeZoneBottom': 1.66,\n",
       "   'coordinates': {'aY': 29.33,\n",
       "    'aZ': -12.69,\n",
       "    'pfxX': -4.8,\n",
       "    'pfxZ': 10.14,\n",
       "    'pX': 0.32,\n",
       "    'pZ': 4.86,\n",
       "    'vX0': 6.41,\n",
       "    'vY0': -137.52,\n",
       "    'vZ0': -1.83,\n",
       "    'x': 104.87,\n",
       "    'y': 107.44,\n",
       "    'x0': -1.42,\n",
       "    'y0': 50.0,\n",
       "    'z0': 6.39,\n",
       "    'aX': -9.23},\n",
       "   'breaks': {'breakAngle': 16.8, 'spinRate': 1943, 'spinDirection': 207},\n",
       "   'zone': 12,\n",
       "   'plateTime': 0.4,\n",
       "   'extension': 6.74},\n",
       "  'index': 1,\n",
       "  'playId': '5c032a13-7218-4373-a126-781df70b00af',\n",
       "  'pitchNumber': 2,\n",
       "  'startTime': '2022-07-15T23:39:56.239Z',\n",
       "  'endTime': '2022-07-15T23:40:11.590Z',\n",
       "  'isPitch': True,\n",
       "  'type': 'pitch'},\n",
       " {'details': {'call': {'code': 'C', 'description': 'Called Strike'},\n",
       "   'description': 'Called Strike',\n",
       "   'code': 'C',\n",
       "   'ballColor': 'rgba(170, 21, 11, 1.0)',\n",
       "   'trailColor': 'rgba(188, 0, 33, 1.0)',\n",
       "   'isInPlay': False,\n",
       "   'isStrike': True,\n",
       "   'isBall': False,\n",
       "   'type': {'code': 'FF', 'description': 'Four-Seam Fastball'},\n",
       "   'hasReview': False},\n",
       "  'count': {'balls': 2, 'strikes': 1, 'outs': 0},\n",
       "  'pitchData': {'startSpeed': 93.6,\n",
       "   'endSpeed': 86.5,\n",
       "   'strikeZoneTop': 3.65,\n",
       "   'strikeZoneBottom': 1.66,\n",
       "   'coordinates': {'aY': 26.55,\n",
       "    'aZ': -10.56,\n",
       "    'pfxX': -2.85,\n",
       "    'pfxZ': 11.37,\n",
       "    'pX': 0.03,\n",
       "    'pZ': 2.65,\n",
       "    'vX0': 4.85,\n",
       "    'vY0': -136.18,\n",
       "    'vZ0': -7.53,\n",
       "    'x': 115.72,\n",
       "    'y': 167.18,\n",
       "    'x0': -1.39,\n",
       "    'y0': 50.0,\n",
       "    'z0': 6.16,\n",
       "    'aX': -5.43},\n",
       "   'breaks': {'breakAngle': 15.6, 'spinRate': 1927, 'spinDirection': 204},\n",
       "   'zone': 5,\n",
       "   'plateTime': 0.4,\n",
       "   'extension': 6.95},\n",
       "  'index': 2,\n",
       "  'playId': '5c912a4a-2d9a-4fde-b4bd-9f21d850cce2',\n",
       "  'pitchNumber': 3,\n",
       "  'startTime': '2022-07-15T23:40:11.590Z',\n",
       "  'endTime': '2022-07-15T23:40:25.044Z',\n",
       "  'isPitch': True,\n",
       "  'type': 'pitch'},\n",
       " {'details': {'call': {'code': 'S', 'description': 'Swinging Strike'},\n",
       "   'description': 'Swinging Strike',\n",
       "   'code': 'S',\n",
       "   'ballColor': 'rgba(170, 21, 11, 1.0)',\n",
       "   'trailColor': 'rgba(188, 0, 33, 1.0)',\n",
       "   'isInPlay': False,\n",
       "   'isStrike': True,\n",
       "   'isBall': False,\n",
       "   'type': {'code': 'FF', 'description': 'Four-Seam Fastball'},\n",
       "   'hasReview': False},\n",
       "  'count': {'balls': 2, 'strikes': 2, 'outs': 0},\n",
       "  'pitchData': {'startSpeed': 94.3,\n",
       "   'endSpeed': 86.8,\n",
       "   'strikeZoneTop': 3.65,\n",
       "   'strikeZoneBottom': 1.66,\n",
       "   'coordinates': {'aY': 28.19,\n",
       "    'aZ': -11.11,\n",
       "    'pfxX': -5.44,\n",
       "    'pfxZ': 10.97,\n",
       "    'pX': 0.15,\n",
       "    'pZ': 2.94,\n",
       "    'vX0': 6.08,\n",
       "    'vY0': -137.15,\n",
       "    'vZ0': -6.83,\n",
       "    'x': 111.22,\n",
       "    'y': 159.37,\n",
       "    'x0': -1.38,\n",
       "    'y0': 50.0,\n",
       "    'z0': 6.21,\n",
       "    'aX': -10.45},\n",
       "   'breaks': {'breakAngle': 12.0, 'spinRate': 1992, 'spinDirection': 202},\n",
       "   'zone': 5,\n",
       "   'plateTime': 0.4,\n",
       "   'extension': 6.87},\n",
       "  'index': 3,\n",
       "  'playId': '46608298-e710-43bc-9cbd-8c95c3f4d40d',\n",
       "  'pitchNumber': 4,\n",
       "  'startTime': '2022-07-15T23:40:25.044Z',\n",
       "  'endTime': '2022-07-15T23:40:39.141Z',\n",
       "  'isPitch': True,\n",
       "  'type': 'pitch'},\n",
       " {'details': {'call': {'code': 'D', 'description': 'In play, no out'},\n",
       "   'description': 'In play, no out',\n",
       "   'code': 'D',\n",
       "   'ballColor': 'rgba(26, 86, 190, 1.0)',\n",
       "   'trailColor': 'rgba(0, 34, 255, 1.0)',\n",
       "   'isInPlay': True,\n",
       "   'isStrike': False,\n",
       "   'isBall': False,\n",
       "   'type': {'code': 'CU', 'description': 'Curveball'},\n",
       "   'hasReview': False},\n",
       "  'count': {'balls': 2, 'strikes': 2, 'outs': 0},\n",
       "  'pitchData': {'startSpeed': 81.5,\n",
       "   'endSpeed': 75.5,\n",
       "   'strikeZoneTop': 3.65,\n",
       "   'strikeZoneBottom': 1.66,\n",
       "   'coordinates': {'aY': 21.68,\n",
       "    'aZ': -31.57,\n",
       "    'pfxX': 2.07,\n",
       "    'pfxZ': 0.42,\n",
       "    'pX': 1.12,\n",
       "    'pZ': 2.13,\n",
       "    'vX0': 5.58,\n",
       "    'vY0': -118.57,\n",
       "    'vZ0': -2.92,\n",
       "    'x': 74.2,\n",
       "    'y': 181.2,\n",
       "    'x0': -1.53,\n",
       "    'y0': 50.0,\n",
       "    'z0': 6.25,\n",
       "    'aX': 2.96},\n",
       "   'breaks': {'breakAngle': 43.2, 'spinRate': 1862, 'spinDirection': 26},\n",
       "   'zone': 14,\n",
       "   'plateTime': 0.46,\n",
       "   'extension': 6.68},\n",
       "  'hitData': {'launchSpeed': 92.9,\n",
       "   'launchAngle': 4.0,\n",
       "   'totalDistance': 83.0,\n",
       "   'trajectory': 'line_drive',\n",
       "   'hardness': 'medium',\n",
       "   'location': '1',\n",
       "   'coordinates': {'coordX': 128.34, 'coordY': 173.94}},\n",
       "  'index': 4,\n",
       "  'playId': '249a4cbe-c838-408b-862d-9be0dfb17b81',\n",
       "  'pitchNumber': 5,\n",
       "  'startTime': '2022-07-15T23:40:39.141Z',\n",
       "  'endTime': '2022-07-15T23:41:01.604Z',\n",
       "  'isPitch': True,\n",
       "  'type': 'pitch'}]"
      ]
     },
     "execution_count": 50,
     "metadata": {},
     "output_type": "execute_result"
    }
   ],
   "source": [
    "data['allPlays'][i]['playEvents']"
   ]
  },
  {
   "cell_type": "code",
   "execution_count": 39,
   "id": "74d35668-b85e-4890-a1fb-c9d6f6ae0e71",
   "metadata": {},
   "outputs": [],
   "source": [
    "exit_velo = data['allPlays'][i]['playEvents'][0]['hitData']['launchSpeed']\n",
    "launch_angle = data['allPlays'][i]['playEvents'][0]['hitData']['launchAngle']"
   ]
  },
  {
   "cell_type": "code",
   "execution_count": 83,
   "id": "01af4c40-5d6a-4d7d-b983-58b2be0cffe0",
   "metadata": {},
   "outputs": [],
   "source": [
    "# https://stackoverflow.com/questions/51106363/tweet-mp4-files-with-tweepy.  I did not pip install the forked tweepy and it still worked.\n",
    "\n",
    "upload_result = api.media_upload(r'C:\\Users\\aorfa\\Downloads\\Utah_Get_Me_Two.mp4')\n",
    "api.update_status(status = 'this GIF == a Double',media_ids = [upload_result.media_id_string])"
   ]
  },
  {
   "cell_type": "code",
   "execution_count": 119,
   "id": "6b2ca6c7-1cec-4e04-860c-311d7cf05cea",
   "metadata": {},
   "outputs": [
    {
     "data": {
      "text/plain": [
       "5"
      ]
     },
     "execution_count": 119,
     "metadata": {},
     "output_type": "execute_result"
    }
   ],
   "source": [
    "len(str(batting_avg) + '0')"
   ]
  },
  {
   "cell_type": "code",
   "execution_count": null,
   "id": "9c73fef0-3e5f-48ac-8a24-62ece0a36f75",
   "metadata": {},
   "outputs": [],
   "source": []
  },
  {
   "cell_type": "code",
   "execution_count": 25,
   "id": "3b4fa420-3eee-4f4b-ac03-633f26c5d190",
   "metadata": {},
   "outputs": [
    {
     "data": {
      "text/plain": [
       "'45DPd3Rtu73HzBE7PlXTCHCVs'"
      ]
     },
     "execution_count": 25,
     "metadata": {},
     "output_type": "execute_result"
    }
   ],
   "source": [
    "import toml\n",
    "keys = toml.load(\"secrets.toml\")\n",
    "# index into the data dictionary\n",
    "keys['twitter_keys']['consumer_key']"
   ]
  },
  {
   "cell_type": "code",
   "execution_count": null,
   "id": "35b29fa9-1a62-469f-bbfd-a29978d97efb",
   "metadata": {},
   "outputs": [],
   "source": []
  }
 ],
 "metadata": {
  "kernelspec": {
   "display_name": "Python 3 (ipykernel)",
   "language": "python",
   "name": "python3"
  },
  "language_info": {
   "codemirror_mode": {
    "name": "ipython",
    "version": 3
   },
   "file_extension": ".py",
   "mimetype": "text/x-python",
   "name": "python",
   "nbconvert_exporter": "python",
   "pygments_lexer": "ipython3",
   "version": "3.9.7"
  }
 },
 "nbformat": 4,
 "nbformat_minor": 5
}
